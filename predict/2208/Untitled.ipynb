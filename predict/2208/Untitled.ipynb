{
 "cells": [
  {
   "cell_type": "code",
   "execution_count": 46,
   "metadata": {},
   "outputs": [
    {
     "data": {
      "text/plain": [
       "'/Users/fangduan/Documents/Projects/HomeCredit/predict/2208'"
      ]
     },
     "execution_count": 46,
     "metadata": {},
     "output_type": "execute_result"
    }
   ],
   "source": [
    "import glob\n",
    "import pandas as pd\n",
    "import numpy as np\n",
    "from functools import reduce\n",
    "import os\n",
    "os.getcwd()"
   ]
  },
  {
   "cell_type": "code",
   "execution_count": 69,
   "metadata": {},
   "outputs": [],
   "source": [
    "M1 = pd.read_csv('lightGBM_self_oof_0.796.csv')\n",
    "M2 = pd.read_csv('XGBoost_test_predictions_rank_mean.csv')\n",
    "# M3 = pd.read_csv('pure_gp_0.786.csv')\n",
    "# M4 = pd.read_csv('ffnn_rank_gauss_0.775.csv')\n",
    "# M5 = pd.read_csv('tidy_xgb_0.78889.csv')"
   ]
  },
  {
   "cell_type": "code",
   "execution_count": 70,
   "metadata": {},
   "outputs": [],
   "source": [
    "data = {}\n",
    "for path in glob.glob(\"/Users/fangduan/Documents/Projects/HomeCredit/predict/2208/*.csv\", recursive=True):\n",
    "    data[path[19:-4]] = pd.read_csv(path)"
   ]
  },
  {
   "cell_type": "code",
   "execution_count": 71,
   "metadata": {},
   "outputs": [
    {
     "data": {
      "text/html": [
       "<div>\n",
       "<style scoped>\n",
       "    .dataframe tbody tr th:only-of-type {\n",
       "        vertical-align: middle;\n",
       "    }\n",
       "\n",
       "    .dataframe tbody tr th {\n",
       "        vertical-align: top;\n",
       "    }\n",
       "\n",
       "    .dataframe thead th {\n",
       "        text-align: right;\n",
       "    }\n",
       "</style>\n",
       "<table border=\"1\" class=\"dataframe\">\n",
       "  <thead>\n",
       "    <tr style=\"text-align: right;\">\n",
       "      <th></th>\n",
       "      <th>uments/Projects/HomeCredit/predict/2208/lightGBM_self_oof_0.796</th>\n",
       "      <th>uments/Projects/HomeCredit/predict/2208/WEIGHT_AVERAGE_RANK</th>\n",
       "      <th>uments/Projects/HomeCredit/predict/2208/XGBoost_test_predictions_rank_mean</th>\n",
       "      <th>Average</th>\n",
       "      <th>Scaled Rank</th>\n",
       "    </tr>\n",
       "  </thead>\n",
       "  <tbody>\n",
       "    <tr>\n",
       "      <th>uments/Projects/HomeCredit/predict/2208/lightGBM_self_oof_0.796</th>\n",
       "      <td>1.0</td>\n",
       "      <td>0.986725</td>\n",
       "      <td>0.944857</td>\n",
       "      <td>0.987422</td>\n",
       "      <td>0.987422</td>\n",
       "    </tr>\n",
       "  </tbody>\n",
       "</table>\n",
       "</div>"
      ],
      "text/plain": [
       "                                                    uments/Projects/HomeCredit/predict/2208/lightGBM_self_oof_0.796  \\\n",
       "uments/Projects/HomeCredit/predict/2208/lightGB...                                                1.0                 \n",
       "\n",
       "                                                    uments/Projects/HomeCredit/predict/2208/WEIGHT_AVERAGE_RANK  \\\n",
       "uments/Projects/HomeCredit/predict/2208/lightGB...                                           0.986725             \n",
       "\n",
       "                                                    uments/Projects/HomeCredit/predict/2208/XGBoost_test_predictions_rank_mean  \\\n",
       "uments/Projects/HomeCredit/predict/2208/lightGB...                                           0.944857                            \n",
       "\n",
       "                                                     Average  Scaled Rank  \n",
       "uments/Projects/HomeCredit/predict/2208/lightGB...  0.987422     0.987422  "
      ]
     },
     "execution_count": 71,
     "metadata": {},
     "output_type": "execute_result"
    }
   ],
   "source": [
    "ranks = pd.DataFrame(columns=data.keys())\n",
    "for key in data.keys():\n",
    "    ranks[key] = data[key].TARGET.rank(method='min')\n",
    "ranks['Average'] = ranks.mean(axis=1)\n",
    "ranks['Scaled Rank'] = (ranks['Average'] - ranks['Average'].min()) / (ranks['Average'].max() - ranks['Average'].min())\n",
    "ranks.corr()[:1]"
   ]
  },
  {
   "cell_type": "code",
   "execution_count": 72,
   "metadata": {},
   "outputs": [],
   "source": [
    "weights = [0.55, 0.45]\n",
    "ranks['Score'] = ranks[['uments/Projects/HomeCredit/predict/2208/XGBoost_test_predictions_rank_mean',\n",
    "       'uments/Projects/HomeCredit/predict/2208/lightGBM_self_oof_0.796']].mul(weights).sum(1) / ranks.shape[0]"
   ]
  },
  {
   "cell_type": "code",
   "execution_count": 73,
   "metadata": {},
   "outputs": [
    {
     "data": {
      "text/plain": [
       "0        0.449187\n",
       "1        0.845280\n",
       "2        0.318733\n",
       "3        0.430656\n",
       "4        0.878755\n",
       "5        0.585284\n",
       "6        0.040557\n",
       "7        0.392126\n",
       "8        0.129532\n",
       "9        0.741624\n",
       "10       0.504050\n",
       "11       0.376552\n",
       "12       0.892597\n",
       "13       0.562507\n",
       "14       0.499678\n",
       "15       0.907714\n",
       "16       0.571708\n",
       "17       0.269891\n",
       "18       0.786078\n",
       "19       0.366743\n",
       "20       0.352759\n",
       "21       0.093122\n",
       "22       0.481757\n",
       "23       0.899535\n",
       "24       0.667424\n",
       "25       0.769423\n",
       "26       0.839227\n",
       "27       0.578877\n",
       "28       0.302501\n",
       "29       0.417968\n",
       "           ...   \n",
       "48714    0.414893\n",
       "48715    0.076314\n",
       "48716    0.939705\n",
       "48717    0.118683\n",
       "48718    0.389865\n",
       "48719    0.776915\n",
       "48720    0.352992\n",
       "48721    0.904622\n",
       "48722    0.810318\n",
       "48723    0.820340\n",
       "48724    0.720267\n",
       "48725    0.840821\n",
       "48726    0.429444\n",
       "48727    0.051928\n",
       "48728    0.121232\n",
       "48729    0.838209\n",
       "48730    0.629226\n",
       "48731    0.129785\n",
       "48732    0.780837\n",
       "48733    0.440260\n",
       "48734    0.428715\n",
       "48735    0.690532\n",
       "48736    0.127779\n",
       "48737    0.861336\n",
       "48738    0.695412\n",
       "48739    0.577879\n",
       "48740    0.509184\n",
       "48741    0.023849\n",
       "48742    0.314269\n",
       "48743    0.895971\n",
       "Name: Score, Length: 48744, dtype: float64"
      ]
     },
     "execution_count": 73,
     "metadata": {},
     "output_type": "execute_result"
    }
   ],
   "source": [
    "ranks['Score']"
   ]
  },
  {
   "cell_type": "code",
   "execution_count": 74,
   "metadata": {},
   "outputs": [],
   "source": [
    "submission_lb = pd.read_csv(\"/Users/fangduan/Documents/Projects/HomeCredit/predict/sample_submission.csv\")\n",
    "submission_lb['TARGET'] = ranks['Score']\n",
    "submission_lb.to_csv(\"WEIGHT_AVERAGE_RANK.csv\", index=None)"
   ]
  },
  {
   "cell_type": "code",
   "execution_count": null,
   "metadata": {},
   "outputs": [],
   "source": []
  }
 ],
 "metadata": {
  "kernelspec": {
   "display_name": "Python 3",
   "language": "python",
   "name": "python3"
  },
  "language_info": {
   "codemirror_mode": {
    "name": "ipython",
    "version": 3
   },
   "file_extension": ".py",
   "mimetype": "text/x-python",
   "name": "python",
   "nbconvert_exporter": "python",
   "pygments_lexer": "ipython3",
   "version": "3.6.4"
  }
 },
 "nbformat": 4,
 "nbformat_minor": 2
}

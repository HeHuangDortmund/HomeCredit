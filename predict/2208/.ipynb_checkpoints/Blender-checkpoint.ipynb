{
 "cells": [
  {
   "cell_type": "code",
   "execution_count": 1,
   "metadata": {},
   "outputs": [],
   "source": [
    "import numpy as np # linear algebra\n",
    "import pandas as pd # data processing, CSV file I/O (e.g. pd.read_csv)\n",
    "from functools import reduce"
   ]
  },
  {
   "cell_type": "code",
   "execution_count": 2,
   "metadata": {},
   "outputs": [
    {
     "data": {
      "text/plain": [
       "'/Users/fangduan/Documents/Projects/HomeCredit/predict/2208'"
      ]
     },
     "execution_count": 2,
     "metadata": {},
     "output_type": "execute_result"
    }
   ],
   "source": [
    "import os\n",
    "os.getcwd()"
   ]
  },
  {
   "cell_type": "code",
   "execution_count": 30,
   "metadata": {},
   "outputs": [],
   "source": [
    "M1 = pd.read_csv('lightGBM_self_oof_0.796.csv')\n",
    "# M2 = pd.read_csv('logistic_0.765.csv')\n",
    "M2 = pd.read_csv('logistic_0.750.csv')\n",
    "M3 = pd.read_csv('pure_gp_0.787.csv')\n",
    "# M3 = pd.read_csv('pure_gp_0.786.csv')\n",
    "M4 = pd.read_csv('ffnn_rank_gauss_0.775.csv')\n",
    "M5 = pd.read_csv('tidy_xgb_0.78889.csv')\n",
    "# M5 = pd.read_csv('tidy_xgb_0.78847.csv')\n",
    "M6 = pd.read_csv('nn_0.763.csv')\n",
    "# M5 = pd.read_csv('XGBoost_test_predictions_rank_mean.csv')"
   ]
  },
  {
   "cell_type": "code",
   "execution_count": 31,
   "metadata": {},
   "outputs": [],
   "source": [
    "M2 = M2.drop(columns = 'Unnamed: 0')"
   ]
  },
  {
   "cell_type": "code",
   "execution_count": 32,
   "metadata": {},
   "outputs": [],
   "source": [
    "def calculate_rank(predictions):\n",
    "    rank = (1 + predictions.rank().values) / (predictions.shape[0] + 1)\n",
    "    return rank\n",
    "# M2['TARGET'] = calculate_rank(M2['TARGET'])\n",
    "M3['TARGET'] = calculate_rank(M3['TARGET'])\n",
    "M4['TARGET'] = calculate_rank(M4['TARGET'])\n",
    "M5['TARGET'] = calculate_rank(M5['TARGET'])"
   ]
  },
  {
   "cell_type": "code",
   "execution_count": 33,
   "metadata": {},
   "outputs": [],
   "source": [
    "def merge_dataframes(dfs, merge_keys):\n",
    "    dfs_merged = reduce(lambda left,right: pd.merge(left, right, on=merge_keys), dfs)\n",
    "    return dfs_merged"
   ]
  },
  {
   "cell_type": "code",
   "execution_count": 34,
   "metadata": {},
   "outputs": [],
   "source": [
    "dfs = [M1,M2,M3,M4,M5,M6]\n",
    "merge_keys=['SK_ID_CURR']\n",
    "df = merge_dataframes(dfs, merge_keys=merge_keys)"
   ]
  },
  {
   "cell_type": "code",
   "execution_count": 35,
   "metadata": {},
   "outputs": [
    {
     "data": {
      "text/html": [
       "<div>\n",
       "<style scoped>\n",
       "    .dataframe tbody tr th:only-of-type {\n",
       "        vertical-align: middle;\n",
       "    }\n",
       "\n",
       "    .dataframe tbody tr th {\n",
       "        vertical-align: top;\n",
       "    }\n",
       "\n",
       "    .dataframe thead th {\n",
       "        text-align: right;\n",
       "    }\n",
       "</style>\n",
       "<table border=\"1\" class=\"dataframe\">\n",
       "  <thead>\n",
       "    <tr style=\"text-align: right;\">\n",
       "      <th></th>\n",
       "      <th>SK_ID_CURR</th>\n",
       "      <th>T1</th>\n",
       "      <th>T2</th>\n",
       "      <th>T3</th>\n",
       "      <th>T4</th>\n",
       "      <th>T5</th>\n",
       "      <th>T6</th>\n",
       "    </tr>\n",
       "  </thead>\n",
       "  <tbody>\n",
       "    <tr>\n",
       "      <th>0</th>\n",
       "      <td>100001</td>\n",
       "      <td>0.466456</td>\n",
       "      <td>0.612333</td>\n",
       "      <td>0.684480</td>\n",
       "      <td>0.472048</td>\n",
       "      <td>0.369617</td>\n",
       "      <td>0.262422</td>\n",
       "    </tr>\n",
       "    <tr>\n",
       "      <th>1</th>\n",
       "      <td>100005</td>\n",
       "      <td>0.842515</td>\n",
       "      <td>0.312973</td>\n",
       "      <td>0.904421</td>\n",
       "      <td>0.894164</td>\n",
       "      <td>0.863822</td>\n",
       "      <td>0.805777</td>\n",
       "    </tr>\n",
       "    <tr>\n",
       "      <th>2</th>\n",
       "      <td>100013</td>\n",
       "      <td>0.420531</td>\n",
       "      <td>0.717888</td>\n",
       "      <td>0.357493</td>\n",
       "      <td>0.321941</td>\n",
       "      <td>0.328075</td>\n",
       "      <td>0.288541</td>\n",
       "    </tr>\n",
       "    <tr>\n",
       "      <th>3</th>\n",
       "      <td>100028</td>\n",
       "      <td>0.508073</td>\n",
       "      <td>0.760559</td>\n",
       "      <td>0.278408</td>\n",
       "      <td>0.617438</td>\n",
       "      <td>0.395343</td>\n",
       "      <td>0.183760</td>\n",
       "    </tr>\n",
       "    <tr>\n",
       "      <th>4</th>\n",
       "      <td>100038</td>\n",
       "      <td>0.869041</td>\n",
       "      <td>0.296655</td>\n",
       "      <td>0.915663</td>\n",
       "      <td>0.824762</td>\n",
       "      <td>0.827203</td>\n",
       "      <td>0.747986</td>\n",
       "    </tr>\n",
       "  </tbody>\n",
       "</table>\n",
       "</div>"
      ],
      "text/plain": [
       "   SK_ID_CURR        T1        T2        T3        T4        T5        T6\n",
       "0      100001  0.466456  0.612333  0.684480  0.472048  0.369617  0.262422\n",
       "1      100005  0.842515  0.312973  0.904421  0.894164  0.863822  0.805777\n",
       "2      100013  0.420531  0.717888  0.357493  0.321941  0.328075  0.288541\n",
       "3      100028  0.508073  0.760559  0.278408  0.617438  0.395343  0.183760\n",
       "4      100038  0.869041  0.296655  0.915663  0.824762  0.827203  0.747986"
      ]
     },
     "execution_count": 35,
     "metadata": {},
     "output_type": "execute_result"
    }
   ],
   "source": [
    "df.columns = ['SK_ID_CURR','T1','T2','T3','T4','T5','T6']\n",
    "df.head()"
   ]
  },
  {
   "cell_type": "code",
   "execution_count": 28,
   "metadata": {},
   "outputs": [
    {
     "data": {
      "text/html": [
       "<div>\n",
       "<style scoped>\n",
       "    .dataframe tbody tr th:only-of-type {\n",
       "        vertical-align: middle;\n",
       "    }\n",
       "\n",
       "    .dataframe tbody tr th {\n",
       "        vertical-align: top;\n",
       "    }\n",
       "\n",
       "    .dataframe thead th {\n",
       "        text-align: right;\n",
       "    }\n",
       "</style>\n",
       "<table border=\"1\" class=\"dataframe\">\n",
       "  <thead>\n",
       "    <tr style=\"text-align: right;\">\n",
       "      <th></th>\n",
       "      <th>SK_ID_CURR</th>\n",
       "      <th>TARGET_x</th>\n",
       "      <th>TARGET_y</th>\n",
       "      <th>TARGET_x</th>\n",
       "      <th>TARGET_y</th>\n",
       "      <th>TARGET_x</th>\n",
       "      <th>TARGET_y</th>\n",
       "    </tr>\n",
       "  </thead>\n",
       "  <tbody>\n",
       "    <tr>\n",
       "      <th>SK_ID_CURR</th>\n",
       "      <td>1.000000</td>\n",
       "      <td>-0.003980</td>\n",
       "      <td>0.006842</td>\n",
       "      <td>-0.005781</td>\n",
       "      <td>-0.011333</td>\n",
       "      <td>-0.004982</td>\n",
       "      <td>-0.001276</td>\n",
       "    </tr>\n",
       "    <tr>\n",
       "      <th>TARGET_x</th>\n",
       "      <td>-0.003980</td>\n",
       "      <td>1.000000</td>\n",
       "      <td>-0.835998</td>\n",
       "      <td>0.917175</td>\n",
       "      <td>0.894350</td>\n",
       "      <td>0.943380</td>\n",
       "      <td>0.840225</td>\n",
       "    </tr>\n",
       "    <tr>\n",
       "      <th>TARGET_y</th>\n",
       "      <td>0.006842</td>\n",
       "      <td>-0.835998</td>\n",
       "      <td>1.000000</td>\n",
       "      <td>-0.858902</td>\n",
       "      <td>-0.851798</td>\n",
       "      <td>-0.827631</td>\n",
       "      <td>-0.869578</td>\n",
       "    </tr>\n",
       "    <tr>\n",
       "      <th>TARGET_x</th>\n",
       "      <td>-0.005781</td>\n",
       "      <td>0.917175</td>\n",
       "      <td>-0.858902</td>\n",
       "      <td>1.000000</td>\n",
       "      <td>0.911605</td>\n",
       "      <td>0.908917</td>\n",
       "      <td>0.858334</td>\n",
       "    </tr>\n",
       "    <tr>\n",
       "      <th>TARGET_y</th>\n",
       "      <td>-0.011333</td>\n",
       "      <td>0.894350</td>\n",
       "      <td>-0.851798</td>\n",
       "      <td>0.911605</td>\n",
       "      <td>1.000000</td>\n",
       "      <td>0.887429</td>\n",
       "      <td>0.844851</td>\n",
       "    </tr>\n",
       "    <tr>\n",
       "      <th>TARGET_x</th>\n",
       "      <td>-0.004982</td>\n",
       "      <td>0.943380</td>\n",
       "      <td>-0.827631</td>\n",
       "      <td>0.908917</td>\n",
       "      <td>0.887429</td>\n",
       "      <td>1.000000</td>\n",
       "      <td>0.830291</td>\n",
       "    </tr>\n",
       "    <tr>\n",
       "      <th>TARGET_y</th>\n",
       "      <td>-0.001276</td>\n",
       "      <td>0.840225</td>\n",
       "      <td>-0.869578</td>\n",
       "      <td>0.858334</td>\n",
       "      <td>0.844851</td>\n",
       "      <td>0.830291</td>\n",
       "      <td>1.000000</td>\n",
       "    </tr>\n",
       "  </tbody>\n",
       "</table>\n",
       "</div>"
      ],
      "text/plain": [
       "            SK_ID_CURR  TARGET_x  TARGET_y  TARGET_x  TARGET_y  TARGET_x  \\\n",
       "SK_ID_CURR    1.000000 -0.003980  0.006842 -0.005781 -0.011333 -0.004982   \n",
       "TARGET_x     -0.003980  1.000000 -0.835998  0.917175  0.894350  0.943380   \n",
       "TARGET_y      0.006842 -0.835998  1.000000 -0.858902 -0.851798 -0.827631   \n",
       "TARGET_x     -0.005781  0.917175 -0.858902  1.000000  0.911605  0.908917   \n",
       "TARGET_y     -0.011333  0.894350 -0.851798  0.911605  1.000000  0.887429   \n",
       "TARGET_x     -0.004982  0.943380 -0.827631  0.908917  0.887429  1.000000   \n",
       "TARGET_y     -0.001276  0.840225 -0.869578  0.858334  0.844851  0.830291   \n",
       "\n",
       "            TARGET_y  \n",
       "SK_ID_CURR -0.001276  \n",
       "TARGET_x    0.840225  \n",
       "TARGET_y   -0.869578  \n",
       "TARGET_x    0.858334  \n",
       "TARGET_y    0.844851  \n",
       "TARGET_x    0.830291  \n",
       "TARGET_y    1.000000  "
      ]
     },
     "execution_count": 28,
     "metadata": {},
     "output_type": "execute_result"
    }
   ],
   "source": [
    "df.corr()"
   ]
  },
  {
   "cell_type": "code",
   "execution_count": 39,
   "metadata": {},
   "outputs": [
    {
     "data": {
      "text/plain": [
       "0    0.431071\n",
       "1    0.788311\n",
       "2    0.411977\n",
       "3    0.462128\n",
       "4    0.785277\n",
       "5    0.576545\n",
       "6    0.114659\n",
       "7    0.384724\n",
       "8    0.224849\n",
       "9    0.664549\n",
       "dtype: float64"
      ]
     },
     "execution_count": 39,
     "metadata": {},
     "output_type": "execute_result"
    }
   ],
   "source": [
    "B_prob = 0.55 * df['T1'] + 0.1 * df['T2'] + 0 * df['T3'] + 0 * df['T4'] + 0.2 * df['T5'] + 0.15 * df['T6']\n",
    "B_prob.head(10)"
   ]
  },
  {
   "cell_type": "code",
   "execution_count": 35,
   "metadata": {},
   "outputs": [],
   "source": [
    "SUB = pd.DataFrame()\n",
    "SUB['SK_ID_CURR'] = df['SK_ID_CURR']\n",
    "SUB['TARGET'] = B_prob\n",
    "SUB.to_csv('Blender_rank.csv', index=False)"
   ]
  },
  {
   "cell_type": "code",
   "execution_count": 53,
   "metadata": {},
   "outputs": [],
   "source": [
    "## read saved 1174 features\n",
    "# import pandas as pd\n",
    "# from sklearn import externals as ext\n",
    "# temp = ext.joblib.load('../Documents/Projects/solution 5/feature_joiner_train')\n",
    "# train = pd.DataFrame(temp['features'])"
   ]
  },
  {
   "cell_type": "code",
   "execution_count": 13,
   "metadata": {},
   "outputs": [],
   "source": [
    "# train.to_csv('train.csv.gz', compression='gzip', sep = ',', index = False) # train.to_csv('train.csv') does not work"
   ]
  },
  {
   "cell_type": "code",
   "execution_count": 14,
   "metadata": {},
   "outputs": [],
   "source": [
    "# temp = ext.joblib.load('../Documents/Projects/solution 5/feature_joiner_test')\n",
    "# test = pd.DataFrame(temp['features'])"
   ]
  },
  {
   "cell_type": "code",
   "execution_count": 15,
   "metadata": {},
   "outputs": [],
   "source": [
    "# test.to_csv('test.csv', index = False)"
   ]
  }
 ],
 "metadata": {
  "kernelspec": {
   "display_name": "Python 3",
   "language": "python",
   "name": "python3"
  },
  "language_info": {
   "codemirror_mode": {
    "name": "ipython",
    "version": 3
   },
   "file_extension": ".py",
   "mimetype": "text/x-python",
   "name": "python",
   "nbconvert_exporter": "python",
   "pygments_lexer": "ipython3",
   "version": "3.6.4"
  }
 },
 "nbformat": 4,
 "nbformat_minor": 2
}

{
 "cells": [
  {
   "cell_type": "code",
   "execution_count": 1,
   "metadata": {},
   "outputs": [],
   "source": [
    "import numpy as np # linear algebra\n",
    "import pandas as pd # data processing, CSV file I/O (e.g. pd.read_csv)\n",
    "from functools import reduce"
   ]
  },
  {
   "cell_type": "code",
   "execution_count": 2,
   "metadata": {},
   "outputs": [
    {
     "data": {
      "text/plain": [
       "'/Users/fangduan/Downloads'"
      ]
     },
     "execution_count": 2,
     "metadata": {},
     "output_type": "execute_result"
    }
   ],
   "source": [
    "import os\n",
    "os.getcwd()"
   ]
  },
  {
   "cell_type": "code",
   "execution_count": 3,
   "metadata": {},
   "outputs": [],
   "source": [
    "M1 = pd.read_csv('lightGBM_test_predictions_rank_mean.csv')\n",
    "M2 = pd.read_csv('logistic_0.750.csv')\n",
    "M3 = pd.read_csv('pure_gp_0.787.csv')\n",
    "M4 = pd.read_csv('ffnn_rank_gauss_0.775.csv')\n",
    "M5 = pd.read_csv('tidy_xgb_0.78847.csv')"
   ]
  },
  {
   "cell_type": "code",
   "execution_count": 4,
   "metadata": {},
   "outputs": [],
   "source": [
    "M2 = M2.drop(columns = 'Unnamed: 0')"
   ]
  },
  {
   "cell_type": "code",
   "execution_count": 5,
   "metadata": {},
   "outputs": [],
   "source": [
    "def calculate_rank(predictions):\n",
    "    rank = (1 + predictions.rank().values) / (predictions.shape[0] + 1)\n",
    "    return rank\n",
    "M3['TARGET'] = calculate_rank(M3['TARGET'])\n",
    "M4['TARGET'] = calculate_rank(M4['TARGET'])\n",
    "M5['TARGET'] = calculate_rank(M5['TARGET'])"
   ]
  },
  {
   "cell_type": "code",
   "execution_count": 6,
   "metadata": {},
   "outputs": [],
   "source": [
    "def merge_dataframes(dfs, merge_keys):\n",
    "    dfs_merged = reduce(lambda left,right: pd.merge(left, right, on=merge_keys), dfs)\n",
    "    return dfs_merged"
   ]
  },
  {
   "cell_type": "code",
   "execution_count": 7,
   "metadata": {},
   "outputs": [],
   "source": [
    "dfs = [M1,M2,M3,M4,M5]\n",
    "merge_keys=['SK_ID_CURR']\n",
    "df = merge_dataframes(dfs, merge_keys=merge_keys)"
   ]
  },
  {
   "cell_type": "code",
   "execution_count": 8,
   "metadata": {},
   "outputs": [
    {
     "data": {
      "text/html": [
       "<div>\n",
       "<style scoped>\n",
       "    .dataframe tbody tr th:only-of-type {\n",
       "        vertical-align: middle;\n",
       "    }\n",
       "\n",
       "    .dataframe tbody tr th {\n",
       "        vertical-align: top;\n",
       "    }\n",
       "\n",
       "    .dataframe thead th {\n",
       "        text-align: right;\n",
       "    }\n",
       "</style>\n",
       "<table border=\"1\" class=\"dataframe\">\n",
       "  <thead>\n",
       "    <tr style=\"text-align: right;\">\n",
       "      <th></th>\n",
       "      <th>SK_ID_CURR</th>\n",
       "      <th>T1</th>\n",
       "      <th>T2</th>\n",
       "      <th>T3</th>\n",
       "      <th>T4</th>\n",
       "      <th>T5</th>\n",
       "    </tr>\n",
       "  </thead>\n",
       "  <tbody>\n",
       "    <tr>\n",
       "      <th>0</th>\n",
       "      <td>100001</td>\n",
       "      <td>0.466456</td>\n",
       "      <td>0.612333</td>\n",
       "      <td>0.684480</td>\n",
       "      <td>0.472048</td>\n",
       "      <td>0.354252</td>\n",
       "    </tr>\n",
       "    <tr>\n",
       "      <th>1</th>\n",
       "      <td>100005</td>\n",
       "      <td>0.842515</td>\n",
       "      <td>0.312973</td>\n",
       "      <td>0.904421</td>\n",
       "      <td>0.894164</td>\n",
       "      <td>0.796205</td>\n",
       "    </tr>\n",
       "    <tr>\n",
       "      <th>2</th>\n",
       "      <td>100013</td>\n",
       "      <td>0.420531</td>\n",
       "      <td>0.717888</td>\n",
       "      <td>0.357493</td>\n",
       "      <td>0.321941</td>\n",
       "      <td>0.238055</td>\n",
       "    </tr>\n",
       "    <tr>\n",
       "      <th>3</th>\n",
       "      <td>100028</td>\n",
       "      <td>0.508073</td>\n",
       "      <td>0.760559</td>\n",
       "      <td>0.278408</td>\n",
       "      <td>0.617438</td>\n",
       "      <td>0.473074</td>\n",
       "    </tr>\n",
       "    <tr>\n",
       "      <th>4</th>\n",
       "      <td>100038</td>\n",
       "      <td>0.869041</td>\n",
       "      <td>0.296655</td>\n",
       "      <td>0.915663</td>\n",
       "      <td>0.824762</td>\n",
       "      <td>0.827018</td>\n",
       "    </tr>\n",
       "  </tbody>\n",
       "</table>\n",
       "</div>"
      ],
      "text/plain": [
       "   SK_ID_CURR        T1        T2        T3        T4        T5\n",
       "0      100001  0.466456  0.612333  0.684480  0.472048  0.354252\n",
       "1      100005  0.842515  0.312973  0.904421  0.894164  0.796205\n",
       "2      100013  0.420531  0.717888  0.357493  0.321941  0.238055\n",
       "3      100028  0.508073  0.760559  0.278408  0.617438  0.473074\n",
       "4      100038  0.869041  0.296655  0.915663  0.824762  0.827018"
      ]
     },
     "execution_count": 8,
     "metadata": {},
     "output_type": "execute_result"
    }
   ],
   "source": [
    "df.columns = ['SK_ID_CURR','T1','T2','T3','T4','T5']\n",
    "df.head()"
   ]
  },
  {
   "cell_type": "code",
   "execution_count": 9,
   "metadata": {},
   "outputs": [
    {
     "data": {
      "text/html": [
       "<div>\n",
       "<style scoped>\n",
       "    .dataframe tbody tr th:only-of-type {\n",
       "        vertical-align: middle;\n",
       "    }\n",
       "\n",
       "    .dataframe tbody tr th {\n",
       "        vertical-align: top;\n",
       "    }\n",
       "\n",
       "    .dataframe thead th {\n",
       "        text-align: right;\n",
       "    }\n",
       "</style>\n",
       "<table border=\"1\" class=\"dataframe\">\n",
       "  <thead>\n",
       "    <tr style=\"text-align: right;\">\n",
       "      <th></th>\n",
       "      <th>SK_ID_CURR</th>\n",
       "      <th>T1</th>\n",
       "      <th>T2</th>\n",
       "      <th>T3</th>\n",
       "      <th>T4</th>\n",
       "      <th>T5</th>\n",
       "    </tr>\n",
       "  </thead>\n",
       "  <tbody>\n",
       "    <tr>\n",
       "      <th>SK_ID_CURR</th>\n",
       "      <td>1.000000</td>\n",
       "      <td>-0.003980</td>\n",
       "      <td>0.006842</td>\n",
       "      <td>-0.005781</td>\n",
       "      <td>-0.011333</td>\n",
       "      <td>-0.004777</td>\n",
       "    </tr>\n",
       "    <tr>\n",
       "      <th>T1</th>\n",
       "      <td>-0.003980</td>\n",
       "      <td>1.000000</td>\n",
       "      <td>-0.835998</td>\n",
       "      <td>0.917175</td>\n",
       "      <td>0.894350</td>\n",
       "      <td>0.937766</td>\n",
       "    </tr>\n",
       "    <tr>\n",
       "      <th>T2</th>\n",
       "      <td>0.006842</td>\n",
       "      <td>-0.835998</td>\n",
       "      <td>1.000000</td>\n",
       "      <td>-0.858902</td>\n",
       "      <td>-0.851798</td>\n",
       "      <td>-0.819606</td>\n",
       "    </tr>\n",
       "    <tr>\n",
       "      <th>T3</th>\n",
       "      <td>-0.005781</td>\n",
       "      <td>0.917175</td>\n",
       "      <td>-0.858902</td>\n",
       "      <td>1.000000</td>\n",
       "      <td>0.911605</td>\n",
       "      <td>0.902385</td>\n",
       "    </tr>\n",
       "    <tr>\n",
       "      <th>T4</th>\n",
       "      <td>-0.011333</td>\n",
       "      <td>0.894350</td>\n",
       "      <td>-0.851798</td>\n",
       "      <td>0.911605</td>\n",
       "      <td>1.000000</td>\n",
       "      <td>0.883615</td>\n",
       "    </tr>\n",
       "    <tr>\n",
       "      <th>T5</th>\n",
       "      <td>-0.004777</td>\n",
       "      <td>0.937766</td>\n",
       "      <td>-0.819606</td>\n",
       "      <td>0.902385</td>\n",
       "      <td>0.883615</td>\n",
       "      <td>1.000000</td>\n",
       "    </tr>\n",
       "  </tbody>\n",
       "</table>\n",
       "</div>"
      ],
      "text/plain": [
       "            SK_ID_CURR        T1        T2        T3        T4        T5\n",
       "SK_ID_CURR    1.000000 -0.003980  0.006842 -0.005781 -0.011333 -0.004777\n",
       "T1           -0.003980  1.000000 -0.835998  0.917175  0.894350  0.937766\n",
       "T2            0.006842 -0.835998  1.000000 -0.858902 -0.851798 -0.819606\n",
       "T3           -0.005781  0.917175 -0.858902  1.000000  0.911605  0.902385\n",
       "T4           -0.011333  0.894350 -0.851798  0.911605  1.000000  0.883615\n",
       "T5           -0.004777  0.937766 -0.819606  0.902385  0.883615  1.000000"
      ]
     },
     "execution_count": 9,
     "metadata": {},
     "output_type": "execute_result"
    }
   ],
   "source": [
    "df.corr()"
   ]
  },
  {
   "cell_type": "code",
   "execution_count": 10,
   "metadata": {},
   "outputs": [
    {
     "data": {
      "text/plain": [
       "0    0.476400\n",
       "1    0.841003\n",
       "2    0.353181\n",
       "3    0.451640\n",
       "4    0.865759\n",
       "5    0.531523\n",
       "6    0.029388\n",
       "7    0.262776\n",
       "8    0.146425\n",
       "9    0.721020\n",
       "dtype: float64"
      ]
     },
     "execution_count": 10,
     "metadata": {},
     "output_type": "execute_result"
    }
   ],
   "source": [
    "B_prob = 0.5 * df['T1'] + 0.1 * df['T2'] + 0.1 * df['T3'] + 0 * df['T4'] + 0.3 * df['T5']\n",
    "B_prob.head(10)"
   ]
  },
  {
   "cell_type": "code",
   "execution_count": 11,
   "metadata": {},
   "outputs": [],
   "source": [
    "SUB = pd.DataFrame()\n",
    "SUB['SK_ID_CURR'] = df['SK_ID_CURR']\n",
    "SUB['TARGET'] = B_prob\n",
    "SUB.to_csv('Blender_rank.csv', index=False)"
   ]
  },
  {
   "cell_type": "code",
   "execution_count": 12,
   "metadata": {},
   "outputs": [],
   "source": [
    "## read saved 1174 features\n",
    "# import pandas as pd\n",
    "# from sklearn import externals as ext\n",
    "# temp = ext.joblib.load('../Documents/Projects/solution 5/feature_joiner_train')\n",
    "# train = pd.DataFrame(temp['features'])"
   ]
  },
  {
   "cell_type": "code",
   "execution_count": 13,
   "metadata": {},
   "outputs": [],
   "source": [
    "# train.to_csv('train.csv.gz', compression='gzip', sep = ',', index = False) # train.to_csv('train.csv') does not work"
   ]
  },
  {
   "cell_type": "code",
   "execution_count": 14,
   "metadata": {},
   "outputs": [],
   "source": [
    "# temp = ext.joblib.load('../Documents/Projects/solution 5/feature_joiner_test')\n",
    "# test = pd.DataFrame(temp['features'])"
   ]
  },
  {
   "cell_type": "code",
   "execution_count": 15,
   "metadata": {},
   "outputs": [],
   "source": [
    "# test.to_csv('test.csv', index = False)"
   ]
  }
 ],
 "metadata": {
  "kernelspec": {
   "display_name": "Python 3",
   "language": "python",
   "name": "python3"
  },
  "language_info": {
   "codemirror_mode": {
    "name": "ipython",
    "version": 3
   },
   "file_extension": ".py",
   "mimetype": "text/x-python",
   "name": "python",
   "nbconvert_exporter": "python",
   "pygments_lexer": "ipython3",
   "version": "3.6.4"
  }
 },
 "nbformat": 4,
 "nbformat_minor": 2
}
